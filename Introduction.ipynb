{
 "cells": [
  {
   "cell_type": "code",
   "execution_count": 4,
   "id": "4d35ee6c",
   "metadata": {},
   "outputs": [
    {
     "name": "stdout",
     "output_type": "stream",
     "text": [
      "The autoreload extension is already loaded. To reload it, use:\n",
      "  %reload_ext autoreload\n"
     ]
    }
   ],
   "source": [
    "%load_ext autoreload\n",
    "%autoreload 2"
   ]
  },
  {
   "cell_type": "markdown",
   "id": "7385d6dd",
   "metadata": {},
   "source": [
    "In Pharo-ArchC and related fundamental parts of Smalltalk-25,\n",
    "we call things of the form (using PPC example here)\n",
    "```\n",
    "    addis RT, RA, D\n",
    "```\n",
    "_instruction declarations_, and things of the form\n",
    "```\n",
    "    addis r3, r1, 0x1234\n",
    "```\n",
    "_ground instruction instances_.\n",
    "\n",
    "We say that two VEX IRSBs _have the same shape_ if they only differ\n",
    "in the leaf constants.  This means, the `U16`/`U32`/etc constants in `Const`\n",
    "expressions, but also things like register offsets in `GET` and `PUT`\n",
    "(because, say, when _RA_ varies those will vary too).\n",
    "\n",
    "For example, `addis r0, r2, 3` and `lis r0, 0` have different shapes since `lis` ignores `RA` register:"
   ]
  },
  {
   "cell_type": "code",
   "execution_count": 42,
   "id": "eafd3308",
   "metadata": {
    "scrolled": true
   },
   "outputs": [
    {
     "data": {
      "text/html": [
       "<style>table.diff td { text-align: left }</style>\n",
       "<!DOCTYPE html PUBLIC \"-//W3C//DTD XHTML 1.0 Transitional//EN\"\n",
       "          \"http://www.w3.org/TR/xhtml1/DTD/xhtml1-transitional.dtd\">\n",
       "\n",
       "<html>\n",
       "\n",
       "<head>\n",
       "    <meta http-equiv=\"Content-Type\"\n",
       "          content=\"text/html; charset=utf-8\" />\n",
       "    <title></title>\n",
       "    <style type=\"text/css\">\n",
       "        table.diff {font-family:Courier; border:medium;}\n",
       "        .diff_header {background-color:#e0e0e0}\n",
       "        td.diff_header {text-align:right}\n",
       "        .diff_next {background-color:#c0c0c0}\n",
       "        .diff_add {background-color:#aaffaa}\n",
       "        .diff_chg {background-color:#ffff77}\n",
       "        .diff_sub {background-color:#ffaaaa}\n",
       "    </style>\n",
       "</head>\n",
       "\n",
       "<body>\n",
       "    \n",
       "    <table class=\"diff\" id=\"difflib_chg_to8__top\"\n",
       "           cellspacing=\"0\" cellpadding=\"0\" rules=\"groups\" >\n",
       "        <colgroup></colgroup> <colgroup></colgroup> <colgroup></colgroup>\n",
       "        <colgroup></colgroup> <colgroup></colgroup> <colgroup></colgroup>\n",
       "        <thead><tr><th class=\"diff_next\"><br /></th><th colspan=\"2\" class=\"diff_header\">addis r0, r2, 3</th><th class=\"diff_next\"><br /></th><th colspan=\"2\" class=\"diff_header\">lis r0, 0</th></tr></thead>\n",
       "        <tbody>\n",
       "            <tr><td class=\"diff_next\" id=\"difflib_chg_to8__0\"><a href=\"#difflib_chg_to8__0\">f</a></td><td class=\"diff_header\" id=\"from8_1\">1</td><td nowrap=\"nowrap\">t0&nbsp;=&nbsp;GET:I32&nbsp;*</td><td class=\"diff_next\"><a href=\"#difflib_chg_to8__0\">f</a></td><td class=\"diff_header\" id=\"to8_1\">1</td><td nowrap=\"nowrap\">t0&nbsp;=&nbsp;GET:I32&nbsp;*</td></tr>\n",
       "            <tr><td class=\"diff_next\"></td><td class=\"diff_header\" id=\"from8_2\">2</td><td nowrap=\"nowrap\">t1&nbsp;=&nbsp;GET:I32&nbsp;*</td><td class=\"diff_next\"></td><td class=\"diff_header\" id=\"to8_2\">2</td><td nowrap=\"nowrap\">t1&nbsp;=&nbsp;GET:I32&nbsp;*</td></tr>\n",
       "            <tr><td class=\"diff_next\"><a href=\"#difflib_chg_to8__top\">t</a></td><td class=\"diff_header\" id=\"from8_3\">3</td><td nowrap=\"nowrap\">t2&nbsp;=&nbsp;<span class=\"diff_sub\">Add32(t0,</span>Const&nbsp;U32&nbsp;*<span class=\"diff_sub\">)</span></td><td class=\"diff_next\"><a href=\"#difflib_chg_to8__top\">t</a></td><td class=\"diff_header\" id=\"to8_3\">3</td><td nowrap=\"nowrap\">t2&nbsp;=&nbsp;Const&nbsp;U32&nbsp;*</td></tr>\n",
       "            <tr><td class=\"diff_next\"></td><td class=\"diff_header\" id=\"from8_4\">4</td><td nowrap=\"nowrap\">PUT(*)&nbsp;=&nbsp;t2</td><td class=\"diff_next\"></td><td class=\"diff_header\" id=\"to8_4\">4</td><td nowrap=\"nowrap\">PUT(*)&nbsp;=&nbsp;t2</td></tr>\n",
       "            <tr><td class=\"diff_next\"></td><td class=\"diff_header\" id=\"from8_5\">5</td><td nowrap=\"nowrap\">PUT(*)&nbsp;=&nbsp;Const&nbsp;U32&nbsp;*</td><td class=\"diff_next\"></td><td class=\"diff_header\" id=\"to8_5\">5</td><td nowrap=\"nowrap\">PUT(*)&nbsp;=&nbsp;Const&nbsp;U32&nbsp;*</td></tr>\n",
       "            <tr><td class=\"diff_next\"></td><td class=\"diff_header\" id=\"from8_6\">6</td><td nowrap=\"nowrap\">t3&nbsp;=&nbsp;GET:I32&nbsp;*</td><td class=\"diff_next\"></td><td class=\"diff_header\" id=\"to8_6\">6</td><td nowrap=\"nowrap\">t3&nbsp;=&nbsp;GET:I32&nbsp;*</td></tr>\n",
       "        </tbody>\n",
       "    </table>\n",
       "    <table class=\"diff\" summary=\"Legends\">\n",
       "        <tr> <th colspan=\"2\"> Legends </th> </tr>\n",
       "        <tr> <td> <table border=\"\" summary=\"Colors\">\n",
       "                      <tr><th> Colors </th> </tr>\n",
       "                      <tr><td class=\"diff_add\">&nbsp;Added&nbsp;</td></tr>\n",
       "                      <tr><td class=\"diff_chg\">Changed</td> </tr>\n",
       "                      <tr><td class=\"diff_sub\">Deleted</td> </tr>\n",
       "                  </table></td>\n",
       "             <td> <table border=\"\" summary=\"Links\">\n",
       "                      <tr><th colspan=\"2\"> Links </th> </tr>\n",
       "                      <tr><td>(f)irst change</td> </tr>\n",
       "                      <tr><td>(n)ext change</td> </tr>\n",
       "                      <tr><td>(t)op</td> </tr>\n",
       "                  </table></td> </tr>\n",
       "    </table>\n",
       "</body>\n",
       "\n",
       "</html>"
      ],
      "text/plain": [
       "<IPython.core.display.HTML object>"
      ]
     },
     "metadata": {},
     "output_type": "display_data"
    }
   ],
   "source": [
    "from bitstring import Bits\n",
    "from regularization.isa import powerpc, arm, Insn\n",
    "\n",
    "addis_1 = Insn(powerpc.addis, [ Bits('0x3c020003') ])\n",
    "addis_2 = Insn(powerpc.addis, [ Bits('0x3c000000') ])\n",
    "\n",
    "def print_diff(obj1, text1, obj2, text2):\n",
    "    from difflib import HtmlDiff\n",
    "    from IPython.display import display, HTML\n",
    "    \n",
    "    stylHTML = '<style>table.diff td { text-align: left }</style>'\n",
    "    diffHTML = HtmlDiff(wrapcolumn=80).make_file(str(text1).splitlines(keepends=True),str(text2).splitlines(keepends=True),obj1, obj2)\n",
    "    display(HTML(stylHTML + diffHTML))\n",
    "    \n",
    "\n",
    "print_diff(addis_1.disassembled, addis_1.VEXsig,addis_2.disassembled, addis_2.VEXsig)"
   ]
  },
  {
   "cell_type": "markdown",
   "id": "6b0f96ce",
   "metadata": {},
   "source": [
    "This has thedisadvantage that special offsets like PC=1168 on PPC, are not recognized\n",
    "as special; cf. criticism of ARM uniform SPRs in Waterman's thesis.\n",
    "\n",
    "Of course, two IRSBs of different shapes can still denote the same\n",
    "function; in this sense shape is not a hash for homotopy."
   ]
  },
  {
   "cell_type": "markdown",
   "id": "b0fd57e0",
   "metadata": {},
   "source": [
    "An instruction is called _vex-regular_ if all its ground instances\n",
    "lift to VEX of the same shape.  For example, `bla` on PPC is regular.\n",
    "However, `addis` is irregular, because in the special case of _RA_=0\n",
    "VEX short-circuits the `Add32` binop."
   ]
  },
  {
   "cell_type": "markdown",
   "id": "b072997e",
   "metadata": {},
   "source": [
    "Therefore, the equality ralation on VEX shapes classifies the total space of instances into disjoint shape classes.  The \n",
    "class `VEXShapeAnalysis` computes a section of the total instance-encoding space: out of each shape class, it picks one representative.  It returns the list of these shapes along with their representatives:"
   ]
  },
  {
   "cell_type": "code",
   "execution_count": 31,
   "id": "53d6f14c",
   "metadata": {},
   "outputs": [],
   "source": [
    "from regularization.vexshape import VEXShapeAnalysis\n",
    "analysis = VEXShapeAnalysis(powerpc.addis)"
   ]
  },
  {
   "cell_type": "code",
   "execution_count": 43,
   "id": "a3e85342",
   "metadata": {
    "scrolled": false
   },
   "outputs": [
    {
     "data": {
      "application/vnd.jupyter.widget-view+json": {
       "model_id": "475c373c95674fa389ebdddf1cc205c6",
       "version_major": 2,
       "version_minor": 0
      },
      "text/plain": [
       "Analyzing addis:   0%|          | 0/100000 [00:00<?, ?it/s]"
      ]
     },
     "metadata": {},
     "output_type": "display_data"
    },
    {
     "name": "stdout",
     "output_type": "stream",
     "text": [
      "Found 2 shapes so far:\n",
      "Insn(Bits('0x3c010000')) # addis r0, r1, 0\n",
      "Insn(Bits('0x3c000000')) # lis r0, 0\n"
     ]
    }
   ],
   "source": [
    "analysis.run(100000)\n",
    "\n",
    "print(f\"Found {len(analysis.shapes)} shapes so far:\")\n",
    "for shape in analysis.shapes:\n",
    "    print(shape.example)"
   ]
  },
  {
   "cell_type": "markdown",
   "id": "c4c7ffd2",
   "metadata": {},
   "source": [
    "Note how different ISAs differ in terminology regarding what is an\n",
    "instruction, a page, or an extended mnemonic -- and how ArchC reflects\n",
    "these differences.  Take the branch instruction as an example.  The PPC\n",
    "\"Branch I-Form\" instructions (`b`, `ba`, `bl`, `bla`) form a single\n",
    "`# Branch` page but are considered separate instructions -- the `LK` and\n",
    "'AA' bits are part of the decoder; this is especially evident in the\n",
    "ArchC model.  Contrast this with the `H` bit in ARM `b` instruction:\n",
    "`b` and `bl` are considered extended mnemonics of the same `b` instruction.\n",
    "One can think of editing the ISA to split `b` and `bl` into separate\n",
    "instructions.  If one goes on far enough, one can arrive at an ISA\n",
    "formulation where all instructions are vex-regular.  We call this process\n",
    "_vex-regularization_.  Obviously, decoder functions in this regularized\n",
    "ISA will not be nicely aligned along the bit boundaries; instruction\n",
    "decode will include some _guard predicates_, e.g. PPC `addis` above will\n",
    "have guards _RA_==0, _RA_!=0."
   ]
  }
 ],
 "metadata": {
  "kernelspec": {
   "display_name": "Python 3 (ipykernel)",
   "language": "python",
   "name": "python3"
  },
  "language_info": {
   "codemirror_mode": {
    "name": "ipython",
    "version": 3
   },
   "file_extension": ".py",
   "mimetype": "text/x-python",
   "name": "python",
   "nbconvert_exporter": "python",
   "pygments_lexer": "ipython3",
   "version": "3.9.10"
  }
 },
 "nbformat": 4,
 "nbformat_minor": 5
}
